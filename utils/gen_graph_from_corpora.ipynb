{
 "nbformat": 4,
 "nbformat_minor": 2,
 "metadata": {
  "language_info": {
   "name": "python",
   "codemirror_mode": {
    "name": "ipython",
    "version": 3
   },
   "version": "3.7.3"
  },
  "orig_nbformat": 2,
  "file_extension": ".py",
  "mimetype": "text/x-python",
  "name": "python",
  "npconvert_exporter": "python",
  "pygments_lexer": "ipython3",
  "version": 3
 },
 "cells": [
  {
   "cell_type": "code",
   "execution_count": 3,
   "metadata": {},
   "outputs": [],
   "source": [
    "\n",
    "import pandas as pd \n",
    "data = pd.read_csv(\"corpora/eng_news-typical_2016_100K/eng_news-typical_2016_100K-co_s.txt\", sep=\"\\t\", header=None).values"
   ]
  },
  {
   "cell_type": "code",
   "execution_count": 4,
   "metadata": {},
   "outputs": [],
   "source": [
    "import numpy as np\n",
    "data = data[:,:-1].astype(np.int32)"
   ]
  },
  {
   "cell_type": "code",
   "execution_count": 7,
   "metadata": {},
   "outputs": [],
   "source": [
    "import os \n",
    "if not os.path.isdir(\"data/eng_news-typical_2016_100K\"):\n",
    "    os.makedirs(\"data/eng_news-typical_2016_100K\")\n",
    "np.savetxt(\"data/eng_news-typical_2016_100K/edgelist.txt\", data, delimiter=\",\", fmt=\"%d,%d,%d\")"
   ]
  },
  {
   "cell_type": "code",
   "execution_count": 6,
   "metadata": {},
   "outputs": [
    {
     "data": {
      "text/plain": "array([[5048,  103,    6],\n       [3138,  121,   12],\n       [ 277, 2346,    4],\n       ...,\n       [ 145,  308,   12],\n       [ 115, 6051,    3],\n       [  12, 3207,   15]], dtype=int32)"
     },
     "execution_count": 6,
     "metadata": {},
     "output_type": "execute_result"
    }
   ],
   "source": [
    "data"
   ]
  },
  {
   "cell_type": "code",
   "execution_count": null,
   "metadata": {},
   "outputs": [],
   "source": []
  }
 ]
}
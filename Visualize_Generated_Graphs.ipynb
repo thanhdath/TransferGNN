{
 "cells": [
  {
   "cell_type": "code",
   "execution_count": null,
   "metadata": {},
   "outputs": [],
   "source": [
    "import os\n",
    "import pickle\n",
    "import random\n",
    "import sys\n",
    "import numpy as np\n",
    "import matplotlib\n",
    "import networkx as nx\n",
    "# matplotlib.use('agg')\n",
    "%matplotlib inline\n",
    "import matplotlib.pyplot as plt\n",
    "import matplotlib.cm as cm\n",
    "\n",
    "def filter_graph(G, th=0.5):\n",
    "    adj = nx.to_numpy_matrix(G)\n",
    "    adj[adj < th] = 0\n",
    "    new_G = nx.from_numpy_matrix(adj)\n",
    "    return new_G\n",
    "\n",
    "\n",
    "def visualize_graphs(G_oris, G_gens, pos=None, THRESHOLD_WEIGHT = 0.05):\n",
    "    plt.figure(figsize=(2*len(G_oris), 4))\n",
    "    \n",
    "    for i, (G_ori, G_gen) in enumerate(zip(G_oris, G_gens)):\n",
    "        G_gen = filter_graph(G_gen, th=THRESHOLD_WEIGHT)\n",
    "        pos = nx.spring_layout(G_ori, k=0.5, iterations=200, scale=100.0)\n",
    "        sub1 = plt.subplot(2, len(G_oris), 1+i)\n",
    "        nx.draw(G_ori,\n",
    "                pos,\n",
    "                node_color='#ff2222', #,\n",
    "                node_size=20,\n",
    "                with_labels=False,\n",
    "                width=1.0,\n",
    "#                 edge_color=cm.Wistia(255)\n",
    "            )\n",
    "        autoAxis = sub1.axis()\n",
    "        rec = plt.Rectangle((autoAxis[0], autoAxis[2]), (autoAxis[1]-autoAxis[0]),(autoAxis[3]-autoAxis[2]),fill=False,lw=1)\n",
    "        rec = sub1.add_patch(rec)\n",
    "        rec.set_clip_on(False)\n",
    "\n",
    "        sub2 = plt.subplot(2, len(G_oris), len(G_oris)+1+i)\n",
    "        ws = [cm.Wistia(G_gen[u][v]['weight']) if G_ori.has_edge(u,v) else cm.Blues(G_gen[u][v]['weight']) for u, v in G_gen.edges()]\n",
    "        nx.draw(G_gen,\n",
    "                pos,\n",
    "                node_color='#ff2222',\n",
    "                node_size=20,\n",
    "                with_labels=False,\n",
    "                width=1.0,\n",
    "                edge_color=ws\n",
    "            )\n",
    "        autoAxis = sub2.axis()\n",
    "        rec = plt.Rectangle((autoAxis[0], autoAxis[2]), (autoAxis[1]-autoAxis[0]),(autoAxis[3]-autoAxis[2]),fill=False,lw=1)\n",
    "        rec = sub2.add_patch(rec)\n",
    "        rec.set_clip_on(False)\n",
    "    plt.subplots_adjust(wspace=0, hspace=0)\n",
    "    plt.savefig(\"vis.pdf\")"
   ]
  },
  {
   "cell_type": "code",
   "execution_count": null,
   "metadata": {},
   "outputs": [],
   "source": [
    "obj = pickle.load(open(\"ckpt-proteins/gat-mean/seed100/embeddings-best.pkl\", \"rb\"))\n",
    "# obj = pickle.load(open(\"ckpt-proteins/gat-mean-without-classify/seed100/embeddings-best.pkl\", \"rb\"))\n",
    "train_graphs = obj[\"train_graphs\"]\n",
    "train_graphs_gen = obj[\"train_graphs_gen\"]\n",
    "test_graphs = obj[\"test_graphs\"]\n",
    "test_graphs_gen = obj[\"test_graphs_gen\"]"
   ]
  },
  {
   "cell_type": "code",
   "execution_count": null,
   "metadata": {},
   "outputs": [],
   "source": [
    "# ids_train = [0, 2, 10, 28, 33]\n",
    "# ids_test = [17, 58, 29, 45, 68] \n",
    "# ids_train = [89, 92, 99, 119, 131] \n",
    "# ids_test = [75,87, 107, 119, 142]\n",
    "ids_train = list(range(5))\n",
    "ids_test = list(range(5))\n",
    "G_oris = []\n",
    "G_oris += [train_graphs[x] for x in ids_train] \n",
    "G_oris += [test_graphs[x] for x in ids_test] \n",
    "G_gens = []\n",
    "G_gens += [train_graphs_gen[x] for x in ids_train] \n",
    "G_gens += [test_graphs_gen[x] for x in ids_test] \n",
    "visualize_graphs(G_oris, G_gens, THRESHOLD_WEIGHT=0.05)"
   ]
  },
  {
   "cell_type": "code",
   "execution_count": null,
   "metadata": {},
   "outputs": [],
   "source": []
  }
 ],
 "metadata": {
  "kernelspec": {
   "display_name": "Python 3",
   "language": "python",
   "name": "python3"
  },
  "language_info": {
   "codemirror_mode": {
    "name": "ipython",
    "version": 3
   },
   "file_extension": ".py",
   "mimetype": "text/x-python",
   "name": "python",
   "nbconvert_exporter": "python",
   "pygments_lexer": "ipython3",
   "version": "3.7.7"
  }
 },
 "nbformat": 4,
 "nbformat_minor": 4
}
